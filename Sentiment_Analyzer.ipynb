{
 "cells": [
  {
   "cell_type": "code",
   "execution_count": 1,
   "metadata": {},
   "outputs": [],
   "source": [
    "import nltk\n",
    "from nltk.corpus import stopwords\n",
    "from nltk.tokenize import word_tokenize\n",
    "import re\n",
    "from nltk.stem import PorterStemmer\n",
    "import numpy as np\n",
    "import pandas as pd\n",
    "import seaborn as sns\n",
    "import matplotlib.pyplot as plt\n",
    "import sklearn\n",
    "from sklearn.utils import resample\n",
    "from sklearn.naive_bayes import MultinomialNB, GaussianNB, BernoulliNB\n",
    "from nltk.classify.scikitlearn import SklearnClassifier\n",
    "import math\n",
    "import random"
   ]
  },
  {
   "cell_type": "markdown",
   "metadata": {},
   "source": [
    "We declare a function, clean_comment, to regex and tokenize comments."
   ]
  },
  {
   "cell_type": "code",
   "execution_count": 2,
   "metadata": {},
   "outputs": [],
   "source": [
    "stop_words = set(stopwords.words(\"english\"))\n",
    "\n",
    "def clean_comment(comment):\n",
    "    ps = PorterStemmer()\n",
    "    regex = re.compile('[^ a-zA-Z]')\n",
    "    cleaned_comment = regex.sub('', comment)\n",
    "    tokenized_words = word_tokenize(cleaned_comment.lower())\n",
    "    cleaned_comments = []\n",
    "\n",
    "    for word in tokenized_words:\n",
    "        if word not in stop_words:\n",
    "            cleaned_comments.append(ps.stem(word))\n",
    "\n",
    "    return cleaned_comments"
   ]
  },
  {
   "cell_type": "markdown",
   "metadata": {},
   "source": [
    "We start by creating a df of our sample data."
   ]
  },
  {
   "cell_type": "code",
   "execution_count": 3,
   "metadata": {},
   "outputs": [],
   "source": [
    "df = pd.read_csv('stock_data.csv', sep=',', encoding='latin-1')"
   ]
  },
  {
   "cell_type": "markdown",
   "metadata": {},
   "source": [
    "Let us look into class balance in the above df."
   ]
  },
  {
   "cell_type": "code",
   "execution_count": 4,
   "metadata": {},
   "outputs": [
    {
     "data": {
      "image/png": "[encoded data removed]",
      "text/plain": [
       "<Figure size 432x288 with 1 Axes>"
      ]
     },
     "metadata": {
      "needs_background": "light"
     },
     "output_type": "display_data"
    }
   ],
   "source": [
    "plt.figure(figsize = None)\n",
    "sns.set_theme(style=\"darkgrid\")\n",
    "sns.countplot(x=\"Sentiment\", data=df)\n",
    "plt.title(\"Pos vs. Negative Sentiment\", fontsize = 15)\n",
    "plt.show()"
   ]
  },
  {
   "cell_type": "markdown",
   "metadata": {},
   "source": [
    "Based on the above, we need to upsample our negative sentiment."
   ]
  },
  {
   "cell_type": "code",
   "execution_count": 5,
   "metadata": {},
   "outputs": [],
   "source": [
    "df_majority = df[df['Sentiment'] == 1]\n",
    "df_minority = df[df['Sentiment'] == -1]\n",
    "\n",
    "minority_upsample = resample(df_minority, replace = True, n_samples = df_majority.shape[0], random_state=101)\n",
    "\n",
    "df_upsampled = pd.concat([minority_upsample, df_majority])\n",
    "df_upsampled = df_upsampled.sample(frac=1)"
   ]
  },
  {
   "cell_type": "markdown",
   "metadata": {},
   "source": [
    "Check our upsample"
   ]
  },
  {
   "cell_type": "code",
   "execution_count": 6,
   "metadata": {},
   "outputs": [
    {
     "data": {
      "image/png": "[encoded data removed]",
      "text/plain": [
       "<Figure size 432x288 with 1 Axes>"
      ]
     },
     "metadata": {},
     "output_type": "display_data"
    }
   ],
   "source": [
    "plt.figure(figsize = None)\n",
    "sns.set_theme(style=\"darkgrid\")\n",
    "sns.countplot(x=\"Sentiment\", data=df_upsampled)\n",
    "plt.title(\"Pos vs. Negative Sentiment\", fontsize = 15)\n",
    "plt.show()"
   ]
  },
  {
   "cell_type": "code",
   "execution_count": 7,
   "metadata": {},
   "outputs": [
    {
     "name": "stdout",
     "output_type": "stream",
     "text": [
      "                                                   Text  Sentiment\n",
      "5175  Global stocks waver, while oil markets are buo...          1\n",
      "933   GEVO Broke out of a bull flag pattern to the u...          1\n",
      "5047  Heard on the Street: Luxury, liquor and sungla...         -1\n",
      "2238  ZNGA BYD MGM These ready to sell yet on the NJ...         -1\n",
      "669   well done to those short aapl friday.....gutsy...          1\n",
      "...                                                 ...        ...\n",
      "474   HA EPS estimates being slashed as squeezed sto...         -1\n",
      "630   GTAT healthy pullback on low volume after a ni...          1\n",
      "1654  yhoo Blackrock increases position SC 13 G file...          1\n",
      "1261                                  AMZN short 275.13         -1\n",
      "2880  ed Daily Triangle on DEPO,....Open ong and Sho...         -1\n",
      "\n",
      "[7370 rows x 2 columns]\n"
     ]
    }
   ],
   "source": [
    "print(df_upsampled)"
   ]
  },
  {
   "cell_type": "markdown",
   "metadata": {},
   "source": [
    " We begin by compiling a feature list of words from our positive and negative comments to begin to see trends in which words fall into which category generally.\n",
    "\n",
    "We begin by building a frequency distribution of words in our comments. We can also use this to build our vocab."
   ]
  },
  {
   "cell_type": "code",
   "execution_count": 8,
   "metadata": {},
   "outputs": [],
   "source": [
    "# TASK CELL\n",
    "def word_counter(comments, sentiment):\n",
    "    '''\n",
    "    Params:\n",
    "        comments: a list of comments\n",
    "        sentiment: a list corresponding to the sentiment of each message (either 0 or 1)\n",
    "    Return:\n",
    "        output_occurence: a dictionary mapping each pair to its frequency\n",
    "    '''\n",
    "\n",
    "    output_occurence = {}\n",
    "    vocab = []\n",
    "\n",
    "\n",
    "    for label, comment in zip(sentiment, comments):\n",
    "        for word in clean_comment(comment):\n",
    "            vocab.append(word)\n",
    "            composite_key = (word, label)\n",
    "            keys = output_occurence.keys()\n",
    "            if composite_key in keys:\n",
    "                output_occurence[composite_key] += 1\n",
    "            else:\n",
    "                output_occurence[composite_key] = 1\n",
    "\n",
    "    vocab = set(vocab)\n",
    "    \n",
    "    return output_occurence, vocab"
   ]
  },
  {
   "cell_type": "code",
   "execution_count": 12,
   "metadata": {},
   "outputs": [
    {
     "name": "stdout",
     "output_type": "stream",
     "text": [
      "['aap', 'clear', 'bullish', 'stock']\n"
     ]
    }
   ],
   "source": [
    "#random.shuffle(documents)\n",
    "#print(documents[0])\n",
    "vocab = []\n",
    "comments = []\n",
    "sentiments = []\n",
    "documents = []\n",
    "\n",
    "\n",
    "\n",
    "for comment in df_upsampled['Text']:\n",
    "    comments.append(clean_comment(comment))\n",
    "\n",
    "for sentiment in df_upsampled['Sentiment']:\n",
    "    sentiments.append(sentiment)\n",
    "\n",
    "for i in range(len(comments)):\n",
    "    documents.append((comments[i], sentiments[i]))\n",
    "\n",
    "random.shuffle(documents)\n",
    "\n",
    "for comment in comments:\n",
    "    for word in comment:\n",
    "        vocab.append(word)\n",
    "\n",
    "vocab = nltk.FreqDist(vocab)\n",
    "\n",
    "vocab_features = list(vocab.keys())[:100]\n",
    "\n",
    "print(documents[0][0])\n"
   ]
  },
  {
   "cell_type": "markdown",
   "metadata": {},
   "source": [
    "Now, we categorize each word as positive or negative. We build a function that finds words in our comments and gets their most frequent classification from the dictionary created in find_occurence."
   ]
  },
  {
   "cell_type": "code",
   "execution_count": 13,
   "metadata": {},
   "outputs": [],
   "source": [
    "def find_features(comment):\n",
    "    '''\n",
    "    Params:\n",
    "        document: our comment and sentiment\n",
    "    Return:\n",
    "        the features, a dictionary of words in the comment mapped to sentiment\n",
    "    '''\n",
    "    words = comment\n",
    "    features = {}\n",
    "\n",
    "    for w in vocab_features:\n",
    "        features[w] = (w in words)\n",
    "\n",
    "    return features\n",
    "    \n",
    "        \n",
    "\n"
   ]
  },
  {
   "cell_type": "code",
   "execution_count": 15,
   "metadata": {},
   "outputs": [
    {
     "ename": "IndexError",
     "evalue": "list index out of range",
     "output_type": "error",
     "traceback": [
      "\u001b[0;31m---------------------------------------------------------------------------\u001b[0m",
      "\u001b[0;31mIndexError\u001b[0m                                Traceback (most recent call last)",
      "\u001b[1;32m/Users/chadcomiter/Documents/CS6120 NLP/NLP_Final_Project_Group_20/Sentiment_Analyzer.ipynb Cell 18'\u001b[0m in \u001b[0;36m<module>\u001b[0;34m\u001b[0m\n\u001b[0;32m----> <a href='vscode-notebook-cell:/Users/chadcomiter/Documents/CS6120%20NLP/NLP_Final_Project_Group_20/Sentiment_Analyzer.ipynb#ch0000017?line=0'>1</a>\u001b[0m featuresets \u001b[39m=\u001b[39m [(find_features(comment), sentiment) \u001b[39mfor\u001b[39;00m (comment, sentiment) \u001b[39min\u001b[39;00m documents]\n\u001b[1;32m      <a href='vscode-notebook-cell:/Users/chadcomiter/Documents/CS6120%20NLP/NLP_Final_Project_Group_20/Sentiment_Analyzer.ipynb#ch0000017?line=2'>3</a>\u001b[0m \u001b[39mprint\u001b[39m(featuresets[\u001b[39m1\u001b[39m])\n",
      "\u001b[1;32m/Users/chadcomiter/Documents/CS6120 NLP/NLP_Final_Project_Group_20/Sentiment_Analyzer.ipynb Cell 18'\u001b[0m in \u001b[0;36m<listcomp>\u001b[0;34m(.0)\u001b[0m\n\u001b[0;32m----> <a href='vscode-notebook-cell:/Users/chadcomiter/Documents/CS6120%20NLP/NLP_Final_Project_Group_20/Sentiment_Analyzer.ipynb#ch0000017?line=0'>1</a>\u001b[0m featuresets \u001b[39m=\u001b[39m [(find_features(comment), sentiment) \u001b[39mfor\u001b[39;00m (comment, sentiment) \u001b[39min\u001b[39;00m documents]\n\u001b[1;32m      <a href='vscode-notebook-cell:/Users/chadcomiter/Documents/CS6120%20NLP/NLP_Final_Project_Group_20/Sentiment_Analyzer.ipynb#ch0000017?line=2'>3</a>\u001b[0m \u001b[39mprint\u001b[39m(featuresets[\u001b[39m1\u001b[39m])\n",
      "\u001b[1;32m/Users/chadcomiter/Documents/CS6120 NLP/NLP_Final_Project_Group_20/Sentiment_Analyzer.ipynb Cell 17'\u001b[0m in \u001b[0;36mfind_features\u001b[0;34m(document)\u001b[0m\n\u001b[1;32m      <a href='vscode-notebook-cell:/Users/chadcomiter/Documents/CS6120%20NLP/NLP_Final_Project_Group_20/Sentiment_Analyzer.ipynb#ch0000016?line=0'>1</a>\u001b[0m \u001b[39mdef\u001b[39;00m \u001b[39mfind_features\u001b[39m(document):\n\u001b[1;32m      <a href='vscode-notebook-cell:/Users/chadcomiter/Documents/CS6120%20NLP/NLP_Final_Project_Group_20/Sentiment_Analyzer.ipynb#ch0000016?line=1'>2</a>\u001b[0m     \u001b[39m'''\u001b[39;00m\n\u001b[1;32m      <a href='vscode-notebook-cell:/Users/chadcomiter/Documents/CS6120%20NLP/NLP_Final_Project_Group_20/Sentiment_Analyzer.ipynb#ch0000016?line=2'>3</a>\u001b[0m \u001b[39m    Params:\u001b[39;00m\n\u001b[1;32m      <a href='vscode-notebook-cell:/Users/chadcomiter/Documents/CS6120%20NLP/NLP_Final_Project_Group_20/Sentiment_Analyzer.ipynb#ch0000016?line=3'>4</a>\u001b[0m \u001b[39m        document: our comment and sentiment\u001b[39;00m\n\u001b[1;32m      <a href='vscode-notebook-cell:/Users/chadcomiter/Documents/CS6120%20NLP/NLP_Final_Project_Group_20/Sentiment_Analyzer.ipynb#ch0000016?line=4'>5</a>\u001b[0m \u001b[39m    Return:\u001b[39;00m\n\u001b[1;32m      <a href='vscode-notebook-cell:/Users/chadcomiter/Documents/CS6120%20NLP/NLP_Final_Project_Group_20/Sentiment_Analyzer.ipynb#ch0000016?line=5'>6</a>\u001b[0m \u001b[39m        the features, a dictionary of words in the comment mapped to sentiment\u001b[39;00m\n\u001b[1;32m      <a href='vscode-notebook-cell:/Users/chadcomiter/Documents/CS6120%20NLP/NLP_Final_Project_Group_20/Sentiment_Analyzer.ipynb#ch0000016?line=6'>7</a>\u001b[0m \u001b[39m    '''\u001b[39;00m\n\u001b[0;32m----> <a href='vscode-notebook-cell:/Users/chadcomiter/Documents/CS6120%20NLP/NLP_Final_Project_Group_20/Sentiment_Analyzer.ipynb#ch0000016?line=7'>8</a>\u001b[0m     words \u001b[39m=\u001b[39m document[\u001b[39m0\u001b[39;49m]\n\u001b[1;32m      <a href='vscode-notebook-cell:/Users/chadcomiter/Documents/CS6120%20NLP/NLP_Final_Project_Group_20/Sentiment_Analyzer.ipynb#ch0000016?line=8'>9</a>\u001b[0m     features \u001b[39m=\u001b[39m {}\n\u001b[1;32m     <a href='vscode-notebook-cell:/Users/chadcomiter/Documents/CS6120%20NLP/NLP_Final_Project_Group_20/Sentiment_Analyzer.ipynb#ch0000016?line=10'>11</a>\u001b[0m     \u001b[39mfor\u001b[39;00m w \u001b[39min\u001b[39;00m vocab_features:\n",
      "\u001b[0;31mIndexError\u001b[0m: list index out of range"
     ]
    }
   ],
   "source": [
    "featuresets = [(find_features(comment), sentiment) for (comment, sentiment) in documents]\n",
    "\n",
    "print(featuresets[1])"
   ]
  },
  {
   "cell_type": "markdown",
   "metadata": {},
   "source": [
    "Let us see how this works on our training data."
   ]
  }
 ],
 "metadata": {
  "interpreter": {
   "hash": "aee8b7b246df8f9039afb4144a1f6fd8d2ca17a180786b69acc140d282b71a49"
  },
  "kernelspec": {
   "display_name": "Python 3.9.10 64-bit",
   "language": "python",
   "name": "python3"
  },
  "language_info": {
   "codemirror_mode": {
    "name": "ipython",
    "version": 3
   },
   "file_extension": ".py",
   "mimetype": "text/x-python",
   "name": "python",
   "nbconvert_exporter": "python",
   "pygments_lexer": "ipython3",
   "version": "3.9.10"
  },
  "orig_nbformat": 4
 },
 "nbformat": 4,
 "nbformat_minor": 2
}
