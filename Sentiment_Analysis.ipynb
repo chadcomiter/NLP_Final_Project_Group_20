{
 "cells": [
  {
   "cell_type": "markdown",
   "metadata": {},
   "source": [
    "First, we import stopwords from NLTK for use in our sentiment analysis."
   ]
  },
  {
   "cell_type": "code",
   "execution_count": 2,
   "metadata": {},
   "outputs": [],
   "source": [
    "import nltk\n",
    "from nltk.corpus import stopwords\n",
    "from nltk.tokenize import word_tokenize\n",
    "\n",
    "stop_words = set(stopwords.words(\"english\"))"
   ]
  },
  {
   "cell_type": "markdown",
   "metadata": {},
   "source": [
    "Next, we ingest our text file of WSB comments to create a list of comments."
   ]
  },
  {
   "cell_type": "code",
   "execution_count": 9,
   "metadata": {},
   "outputs": [
    {
     "name": "stdout",
     "output_type": "stream",
     "text": [
      "gonna suck when Tesla beats earnings later this month\n",
      "\n"
     ]
    }
   ],
   "source": [
    "comments = []\n",
    "with open('wsb_comments.txt') as f:\n",
    "    lines = f.readlines()\n",
    "    for line in lines:\n",
    "        comments.append(line)\n",
    "\n"
   ]
  },
  {
   "cell_type": "markdown",
   "metadata": {},
   "source": [
    "Then, we apply a regex filter to our sentences and prune stopwords."
   ]
  },
  {
   "cell_type": "code",
   "execution_count": 11,
   "metadata": {},
   "outputs": [],
   "source": [
    "import re\n",
    "from nltk.stem import PorterStemmer\n",
    "\n",
    "def clean_comment(comment):\n",
    "    ps = PorterStemmer()\n",
    "    regex = re.compile('[^ a-zA-Z]')\n",
    "    cleaned_comment = regex.sub('', comment)\n",
    "    tokenized_words = word_tokenize(cleaned_comment.lower())\n",
    "    cleaned_comments = []\n",
    "\n",
    "    for word in tokenized_words:\n",
    "        if word not in stop_words:\n",
    "            cleaned_comments.append(ps.stem(word))\n",
    "\n",
    "    return cleaned_comments"
   ]
  },
  {
   "cell_type": "code",
   "execution_count": 14,
   "metadata": {},
   "outputs": [
    {
     "name": "stdout",
     "output_type": "stream",
     "text": [
      "[['god', 'speed', 'filthi', 'degener'], ['spi', 'put', 'ftw', 'imgemotetth'], ['gon', 'na', 'suck', 'tesla', 'beat', 'earn', 'later', 'month'], ['hey', 'havent', 'alreadi', 'pleas', 'repli', 'comment', 'posit', 'led', 'enter', 'exit'], [], ['bot', 'action', 'perform', 'automat', 'pleas', 'contact', 'moder', 'subredditmessagecomposetorwallstreetbet', 'question', 'concern'], ['mu'], ['dte', 'ban'], ['elon', 'tryna', 'put', 'shit', 'hoooldhttpswwwfactionfinancialcompredictionadedbabfcdcb'], ['tesla', 'put'], ['stop', 'child', 'iq', 'get', 'fuck', 'know', 'damn', 'well', 'imposs'], ['iq', 'intellig', 'quotient', 'smart', 'someon', 'age', 'children', 'averag', 'iq'], ['move', 'tandem', 'short', 'hedgecuckfund', 'one', 'move', 'other', 'move', 'liquid', 'becom', 'issu', 'one', 'move', 'caus', 'move', 'could', 'fault', 'main', 'algorithm', 'use', 'short', 'meme', 'stock', 'break', 'code', 'would', 'appli', 'board'], ['quick', 'googl', 'search', 'yield', 'correl', 'coeffici', 'make', 'sens', 'said', 'meme'], [], ['compani', 'head', 'treat', 'compani', 'stock', 'price', 'like', 'shitcoin', 'whatev', 'pump', 'vol'], [], ['imo', 'stay', 'way', 'one', 'someth', 'fundament', 'benefici', 'compani', 'rant', 'twitter'], ['big', 'player', 'lot', 'money', 'fundament', 'good', 'stock', 'big', 'player', 'hedg', 'fund', 'pump', 'meme', 'stock', 'short', 'make', 'huge', 'profit'], ['mu'], ['follow', 'one', 'start', 'pump', 'peopl', 'start', 'buy', 'other', 'also'], ['someon', 'big', 'want', 'trap', 'long'], ['know', 'im', 'ask', 'lot'], ['exactli', 'im', 'answer', 'question'], ['sort', 'align', 'memestockmoassfuckkensasstheori', 'want', 'someon', 'think', 'meme', 'stock', 'conspiraci', 'give', 'reason'], [], ['appreci', 'input', 'though'], ['like', 'dividend', 'split'], ['thing', 'sort', 'align', 'overal', 'theori', 'would', 'lead', 'one', 'believ', 'moass'], [], [], ['edit', 'bag', 'heavi'], ['hedgecuckfund', 'gave', 'away'], ['great', 'idea', 'fundament', 'play', 'amc'], ['hahaha', 'yeah', 'guy', 'gon', 'na', 'lose', 'fortun'], ['dont', 'even', 'fortun', 'lose'], ['cant', 'find', 'here', 'start', 'refer'], [], ['tie', 'coordin', 'fuckboy', 'tiehttpsimgurcomyrpvx'], ['wond', 'simpl', 'involv', 'open', 'anoth', 'window', 'everi', 'minut', 'build', 'fuck', 'boy', 'attack', 'invad', 'pixel', 'liter', 'lose', 'money', 'without', 'spend', 'extra', 'time', 'discord', 'import', 'canib', 'fuckboy', 'get', 'name', 'everi', 'pixel', 'place', 'asshol', 'fuck', 'dont', 'everyon', 'know', 'great', 'much', 'help', 'give', 'back', 'sub', 'given', 'much', 'us'], [], ['call', 'patriot', 'duti', 'april', 'post', 'top', 'wsb', 'give', 'much', 'better', 'inform', 'im', 'tri', 'break', 'retard', 'like'], [], ['doesnt', 'matter', 'much', 'fuck', 'person', 'look', 'ill', 'damn', 'shitti', 'sub', 'shit', 'fuckboy', 'see'], ['updat', 'frequent', 'prioriti', 'coordin'], [], ['dark', 'orang'], [], [], [], [], [], [], [], [], [], [], [], [], [], [], [], [], [], [], [], [], [], ['xb'], [], ['xb'], [], ['collar'], [], ['black', 'let', 'gooo', 'guy', 'let', 'gooo', 'black', 'tile', 'collar'], [], [], [], [], [], [], [], [], [], [], [], [], [], [], [], [], [], [], [], [], [], ['xb'], [], ['tie', 'coordin', 'fuckboy', 'illustr', 'coordin', 'tie', 'areahttpsimgurcomyrpvx'], ['shoutout', 'think', 'climat'], ['accord', 'biden', 'non', 'gender', 'specif', 'airport', 'scanner', 'top'], ['world', 'dont', 'trade', 'stock', 'bro'], ['need', 'stock', 'trader', 'call', 'bullish', 'target', 'wendi'], ['peopl', 'dont', 'consid', 'fact'], [], ['least', 'world', 'popul', 'kid', 'dont', 'trade'], ['world', 'poor', 'uneduc', 'dont', 'trade'], ['peopl', 'real', 'live', 'job', 'may', 'invest', 'dont', 'trade'], [], ['ape', 'teach', 'children', 'corrupt', 'game', 'keep', 'new', 'gener', 'market'], [], ['way', 'attract', 'new', 'money', 'wall', 'street', 'grow', 'brain', 'level', 'play', 'field', 'rule', 'law', 'appli', 'everyon', 'includ', 'hedg', 'fund', 'crimin', 'steal', 'retail'], ['well', 'mf', 'like', 'nike', 'nestl', 'use', 'children', 'make', 'shit', 'cent', 'hour', 'easili', 'get', 'trader', 'bullish', 'sub'], ['sweet', 'gain', 'ape', 'beat', 'fish', 'handsom'], ['well', 'look', 'promis'], ['made', 'laugh'], ['nope', 'moon', 'go', 'brotha'], ['lambo'], ['hahaha', 'got', 'good'], ['ah', 'ole', 'tinder', 'strategi'], ['way', 'ahead', 'im', 'back', 'wait', 'line', 'food', 'bank'], ['analysi', 'wouldv', 'made', 'sens', 'back', 'januari'], [], ['look', 'glng', 'stock', 'alreadi', 'nearli', 'year', 'think', 'valuat', 'inde', 'set', 'alreadi', 'unless', 'new', 'bet', 'inform', 'think', 'isnt', 'reflect', 'gain', 'chaser', 'mind'], ['come', 'place', 'limit', 'knowledg', 'industri', 'trade', 'would', 'glop', 'differ', 'stock', 'differ', 'price'], ['alreadi'], ['ruski', 'dont', 'sell', 'ga', 'europ', 'built', 'twice', 'mani', 'pipelin', 'asia', 'need', 'want', 'could', 'funnel', 'addit', 'control', 'syrian', 'iranian', 'oilga', 'transport', 'right'], [], ['central', 'european', 'ga', 'come', 'russian', 'pipelin', 'said', 'countri', 'incom', 'pay', 'liquefi', 'ga', 'time', 'pipelin', 'ga', 'pipelin', 'move', 'kind', 'volum', 'germani', 'central', 'europ', 'also', 'realli', 'ecolog', 'move', 'huge', 'ship', 'ga', 'across', 'atlant'], [], ['also', 'process', 'capac', 'wont', 'anoth', 'year', 'replac', 'major', 'ru', 'ga', 'liquefi', 'ga'], [], ['accumul', 'comput', 'number', 'exchang', 'resourc', 'reserv', 'stolen', 'dont', 'even', 'need', 'sell', 'resourc', 'money', 'get', 'useless', 'use', 'foreign', 'reserv', 'repurchas', 'currenc', 'prop', 'seem', 'via', 'reserv', 'asset', 'china'], ['take', 'year', 'increas', 'us', 'lng', 'export', 'capac', 'anyon', 'guess', 'price', 'beyond'], ['think', 'eurn'], ['still', 'see', 'consider', 'upsid', 'recent', 'analyst', 'price', 'target', 'revis', 'share', 'analyst', 'glng', 'buy', 'rate'], [], ['respect', 'disagre', 'time', 'tell', 'cheer'], ['lng', 'look', 'fine', 'mehttpswwwfactionfinancialcompredictionbadffbdcfedbabac'], ['post', 'speak', 'common', 'stock', 'glop', 'vs', 'prefer', 'share', 'class', 'prefer', 'stock', 'much', 'higher', 'dividend', 'remain', 'almost', 'entir', 'flat', 'dont', 'see', 'nearli', 'much', 'upsid', 'prefer', 'stock'], ['imgemotetth'], ['person', 'dont', 'see', 'much', 'side', 'dont', 'necessarili', 'see', 'bad', 'stock'], ['fantast'], ['hahaha', 'guy', 'crack'], ['watch', 'whole', 'thing', 'rivet', 'whole', 'time', 'hope', 'get', 'nomin', 'oscar', 'next', 'year'], ['yeah', 'dont', 'know', 'current', 'posit', 'right', 'guy', 'say', 'fuck', 'fuck'], ['bought', 'open', 'damnit'], ['heard', 'dip'], ['bought', 'spi', 'put', 'bottom', 'bro', 'im', 'fuck', 'die', 'video', 'hilari'], ['amus', 'stori', 'tide', 'steal', 'pan'], ['imgemotetthimgemotetthimgemotetth'], ['rip', 'legend'], ['imgemotetthimgemotetthimgemotetth'], ['he', 'fuck', 'legend', 'alway'], ['welcom']]\n"
     ]
    }
   ],
   "source": [
    "processed_comments = []\n",
    "\n",
    "for comment in comments:\n",
    "    processed_comments.append(clean_comment(comment))\n",
    "\n",
    "print(processed_comments)"
   ]
  }
 ],
 "metadata": {
  "interpreter": {
   "hash": "aee8b7b246df8f9039afb4144a1f6fd8d2ca17a180786b69acc140d282b71a49"
  },
  "kernelspec": {
   "display_name": "Python 3.9.10 64-bit",
   "language": "python",
   "name": "python3"
  },
  "language_info": {
   "codemirror_mode": {
    "name": "ipython",
    "version": 3
   },
   "file_extension": ".py",
   "mimetype": "text/x-python",
   "name": "python",
   "nbconvert_exporter": "python",
   "pygments_lexer": "ipython3",
   "version": "3.9.10"
  },
  "orig_nbformat": 4
 },
 "nbformat": 4,
 "nbformat_minor": 2
}
