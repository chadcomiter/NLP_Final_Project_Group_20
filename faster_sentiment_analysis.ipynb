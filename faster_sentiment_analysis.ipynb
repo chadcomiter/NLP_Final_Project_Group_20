{
 "cells": [
  {
   "cell_type": "code",
   "execution_count": 1,
   "id": "4dfcd38b",
   "metadata": {},
   "outputs": [],
   "source": [
    "import nltk\n",
    "from nltk.corpus import stopwords\n",
    "from nltk.tokenize import word_tokenize\n",
    "import re\n",
    "from nltk.stem import PorterStemmer\n",
    "import numpy as np\n",
    "import pandas as pd\n",
    "import seaborn as sns\n",
    "import matplotlib.pyplot as plt\n",
    "import sklearn\n",
    "from sklearn.utils import resample\n",
    "from sklearn.naive_bayes import MultinomialNB, BernoulliNB\n",
    "from sklearn.linear_model import LogisticRegression, SGDClassifier\n",
    "from sklearn.svm import SVC, LinearSVC, NuSVC\n",
    "from nltk.classify.scikitlearn import SklearnClassifier\n",
    "from nltk.classify import ClassifierI\n",
    "import math\n",
    "import random\n",
    "import pickle\n",
    "from statistics import mode\n",
    "import praw"
   ]
  },
  {
   "cell_type": "code",
   "execution_count": 2,
   "id": "89186ddb",
   "metadata": {},
   "outputs": [],
   "source": [
    "#Loads the picled training data from the other module\n",
    "documents_f = open(\"pickled_outputs/documents.pickle\", \"rb\")\n",
    "documents = pickle.load(documents_f)\n",
    "documents_f.close()\n",
    "\n",
    "#Loads the features from the data\n",
    "vocab_features_f = open(\"pickled_outputs/vocab_features.pickle\", \"rb\")\n",
    "vocab_features = pickle.load(vocab_features_f)\n",
    "vocab_features_f.close()\n",
    "\n",
    "#Loads the fatureset\n",
    "featuresets_f = open(\"pickled_outputs/featuresets.pickle\", \"rb\")\n",
    "featuresets = pickle.load(featuresets_f)\n",
    "featuresets_f.close()"
   ]
  },
  {
   "cell_type": "code",
   "execution_count": 3,
   "id": "5cf88d0f",
   "metadata": {},
   "outputs": [],
   "source": [
    "#Loads the naieve bayes\n",
    "open_NB_file = open(\"pickled_outputs/naivebayes.pickle\", \"rb\")\n",
    "naive_bayes_classifier = pickle.load(open_NB_file)\n",
    "open_NB_file.close()\n",
    "\n",
    "#Loads the MNB\n",
    "open_MNB_file = open(\"pickled_outputs/MNB_classifier.pickle\", \"rb\")\n",
    "MNB_classifier = pickle.load(open_MNB_file)\n",
    "open_MNB_file.close()\n",
    "\n",
    "#Loads the BNB\n",
    "open_BNB_file = open(\"pickled_outputs/BNB_classifier.pickle\", \"rb\")\n",
    "BNB_classifier = pickle.load(open_BNB_file)\n",
    "open_BNB_file.close()\n",
    "\n",
    "#Loads the Logistic Regression\n",
    "open_LR_file = open(\"pickled_outputs/LogisticRegression_classifier.pickle\", \"rb\")\n",
    "LogisticRegression_classifier = pickle.load(open_LR_file)\n",
    "open_LR_file.close()\n",
    "\n",
    "#Loads the SGDC\n",
    "open_SGDC_file = open(\"pickled_outputs/SGDClassifier_classifier.pickle\", \"rb\")\n",
    "SGDClassifier_classifier = pickle.load(open_SGDC_file)\n",
    "open_SGDC_file.close()\n",
    "\n",
    "#Loads the SVC\n",
    "open_SVC_file = open(\"pickled_outputs/SVC_classifier.pickle\", \"rb\")\n",
    "SVC_classifier = pickle.load(open_SVC_file)\n",
    "open_SVC_file.close()\n",
    "\n",
    "\n",
    "#Loads the Linear SVC\n",
    "open_LSVC_file = open(\"pickled_outputs/LinearSVC_classifier.pickle\", \"rb\")\n",
    "LinearSVC_classifier = pickle.load(open_LSVC_file)\n",
    "open_LSVC_file.close()\n",
    "\n",
    "#NUSVC\n",
    "open_NUSVC_file = open(\"pickled_outputs/NuSVC_classifier.pickle\",\"rb\")\n",
    "NuSVC_classifier = pickle.load(open_NUSVC_file)\n",
    "open_NUSVC_file.close()"
   ]
  },
  {
   "cell_type": "code",
   "execution_count": 4,
   "id": "326ad175",
   "metadata": {},
   "outputs": [],
   "source": [
    "#Find feature function from the previous notebook\n",
    "def find_features(comment):\n",
    "    '''\n",
    "    Params:\n",
    "        document: our comment and sentiment\n",
    "    Return:\n",
    "        the features, a dictionary of words in the comment mapped to sentiment\n",
    "    '''\n",
    "    words = comment\n",
    "    features = {}\n",
    "\n",
    "    for w in vocab_features:\n",
    "        features[w] = (w in words)\n",
    "\n",
    "    return features"
   ]
  },
  {
   "cell_type": "code",
   "execution_count": 5,
   "id": "90375292",
   "metadata": {},
   "outputs": [
    {
     "name": "stdout",
     "output_type": "stream",
     "text": [
      "Number of featuresets:  3674\n"
     ]
    }
   ],
   "source": [
    "print(\"Number of featuresets: \", len(featuresets))\n",
    "cutoff = round(len(featuresets) * 0.8)\n",
    "training_set = featuresets[:cutoff]\n",
    "testing_set = featuresets[cutoff+1:]"
   ]
  },
  {
   "cell_type": "code",
   "execution_count": 6,
   "id": "05e8a400",
   "metadata": {},
   "outputs": [],
   "source": [
    "#Voting Class from previous notebook\n",
    "class VotingClassifier(ClassifierI):\n",
    "    def __init__(self, *classifiers):\n",
    "        self._classifiers = classifiers\n",
    "\n",
    "    def classify(self, features):\n",
    "        votes = []\n",
    "        for classifier in self._classifiers:\n",
    "            vote = classifier.classify(features)\n",
    "            votes.append(vote)\n",
    "        return mode(votes)\n",
    "\n",
    "    def evaluate_confidence(self, features):\n",
    "        votes = []\n",
    "        for classifier in self._classifiers:\n",
    "            vote = classifier.classify(features)\n",
    "            votes.append(vote)\n",
    "            \n",
    "        choice_votes = votes.count(mode(votes))\n",
    "        confidence = choice_votes / len(votes)\n",
    "        return confidence"
   ]
  },
  {
   "cell_type": "code",
   "execution_count": 7,
   "id": "b6a774d5",
   "metadata": {},
   "outputs": [],
   "source": [
    "#Voting Classifier from previous notebook\n",
    "voting_classifier = VotingClassifier(naive_bayes_classifier, MNB_classifier, BNB_classifier, LogisticRegression_classifier, SGDClassifier_classifier, SVC_classifier, LinearSVC_classifier, NuSVC_classifier)"
   ]
  },
  {
   "cell_type": "code",
   "execution_count": 8,
   "id": "d1786a49",
   "metadata": {},
   "outputs": [],
   "source": [
    "def define_sentiment(comment):\n",
    "    comment_features = find_features(comment)\n",
    "    return voting_classifier.classify(comment_features), voting_classifier.evaluate_confidence(comment_features)"
   ]
  },
  {
   "cell_type": "code",
   "execution_count": 9,
   "id": "7ef87687",
   "metadata": {},
   "outputs": [
    {
     "data": {
      "text/plain": [
       "(1, 0.5)"
      ]
     },
     "execution_count": 9,
     "metadata": {},
     "output_type": "execute_result"
    }
   ],
   "source": [
    "define_sentiment(\"The market is great great today, I am super happy, I love money\")\n"
   ]
  },
  {
   "cell_type": "code",
   "execution_count": 10,
   "id": "b798797c",
   "metadata": {},
   "outputs": [
    {
     "name": "stdout",
     "output_type": "stream",
     "text": [
      "<class 'int'>\n"
     ]
    }
   ],
   "source": [
    "test = define_sentiment(\"I hate the down market its fucking bullshit, it is so negative I lost everything goodbye\")\n",
    "print(type(test[0]))"
   ]
  },
  {
   "cell_type": "code",
   "execution_count": 11,
   "id": "6a0fc991",
   "metadata": {},
   "outputs": [
    {
     "name": "stdout",
     "output_type": "stream",
     "text": [
      "False\n"
     ]
    }
   ],
   "source": [
    "#Connect to a reddit account\n",
    "#Reddit account username: group_20_final_proj\n",
    "#Password: sharedaccount\n",
    "#Client ID: hMwEYlt_j8npjE5uqz1mcw\n",
    "#Seceret: mMt6cgv2tjF1VYZTT7c_BkmdvXOqVA\n",
    "\n",
    "#Connect to Reddit\n",
    "reddit = praw.Reddit(\n",
    "    client_id=\"hMwEYlt_j8npjE5uqz1mcw\",\n",
    "    client_secret=\"mMt6cgv2tjF1VYZTT7c_BkmdvXOqVA\",\n",
    "    user_agent=\"Group_20\",\n",
    "    username=\"group_20_final_proj\",\n",
    "    password=\"sharedaccount\",\n",
    ")\n",
    "print(reddit.read_only)\n",
    "# Output: False is correct"
   ]
  },
  {
   "cell_type": "code",
   "execution_count": 12,
   "id": "1bec306b",
   "metadata": {},
   "outputs": [
    {
     "name": "stdout",
     "output_type": "stream",
     "text": [
      "wallstreetbets\n",
      "wallstreetbets\n"
     ]
    }
   ],
   "source": [
    "#Connect to a subreddit\n",
    "wallstreetbets = reddit.subreddit(\"wallstreetbets\")\n",
    "\n",
    "print(wallstreetbets.display_name)\n",
    "#Tests the connection\n",
    "print(wallstreetbets.title)"
   ]
  },
  {
   "cell_type": "code",
   "execution_count": 13,
   "id": "331ccd7d",
   "metadata": {},
   "outputs": [],
   "source": [
    "#Cleans the file so it is empty\n",
    "wsb_output = open(\"wsb_output.txt\", \"w+\")\n",
    "wsb_output.close()"
   ]
  },
  {
   "cell_type": "code",
   "execution_count": 17,
   "id": "acd96587",
   "metadata": {},
   "outputs": [
    {
     "ename": "KeyboardInterrupt",
     "evalue": "",
     "output_type": "error",
     "traceback": [
      "\u001b[0;31m---------------------------------------------------------------------------\u001b[0m",
      "\u001b[0;31mKeyboardInterrupt\u001b[0m                         Traceback (most recent call last)",
      "\u001b[1;32m/Users/chadcomiter/Documents/CS6120 NLP/NLP_Final_Project_Group_20/NLP_Final_Project_Group_20/faster_sentiment_analysis.ipynb Cell 14'\u001b[0m in \u001b[0;36m<module>\u001b[0;34m\u001b[0m\n\u001b[1;32m      <a href='vscode-notebook-cell:/Users/chadcomiter/Documents/CS6120%20NLP/NLP_Final_Project_Group_20/NLP_Final_Project_Group_20/faster_sentiment_analysis.ipynb#ch0000013?line=3'>4</a>\u001b[0m \u001b[39mfor\u001b[39;00m comment \u001b[39min\u001b[39;00m wallstreetbets\u001b[39m.\u001b[39mstream\u001b[39m.\u001b[39mcomments():\n\u001b[1;32m      <a href='vscode-notebook-cell:/Users/chadcomiter/Documents/CS6120%20NLP/NLP_Final_Project_Group_20/NLP_Final_Project_Group_20/faster_sentiment_analysis.ipynb#ch0000013?line=4'>5</a>\u001b[0m     wsb_output \u001b[39m=\u001b[39m \u001b[39mopen\u001b[39m(\u001b[39m\"\u001b[39m\u001b[39mwsb_output.txt\u001b[39m\u001b[39m\"\u001b[39m, \u001b[39m\"\u001b[39m\u001b[39ma\u001b[39m\u001b[39m\"\u001b[39m)\n\u001b[0;32m----> <a href='vscode-notebook-cell:/Users/chadcomiter/Documents/CS6120%20NLP/NLP_Final_Project_Group_20/NLP_Final_Project_Group_20/faster_sentiment_analysis.ipynb#ch0000013?line=5'>6</a>\u001b[0m     sentiment_value, confidence_value \u001b[39m=\u001b[39m define_sentiment(comment\u001b[39m.\u001b[39;49mbody)\n\u001b[1;32m      <a href='vscode-notebook-cell:/Users/chadcomiter/Documents/CS6120%20NLP/NLP_Final_Project_Group_20/NLP_Final_Project_Group_20/faster_sentiment_analysis.ipynb#ch0000013?line=6'>7</a>\u001b[0m \u001b[39m#     if sentiment_value == -1:\u001b[39;00m\n\u001b[1;32m      <a href='vscode-notebook-cell:/Users/chadcomiter/Documents/CS6120%20NLP/NLP_Final_Project_Group_20/NLP_Final_Project_Group_20/faster_sentiment_analysis.ipynb#ch0000013?line=7'>8</a>\u001b[0m \u001b[39m#         print(comment.body)\u001b[39;00m\n\u001b[1;32m      <a href='vscode-notebook-cell:/Users/chadcomiter/Documents/CS6120%20NLP/NLP_Final_Project_Group_20/NLP_Final_Project_Group_20/faster_sentiment_analysis.ipynb#ch0000013?line=8'>9</a>\u001b[0m     wsb_output\u001b[39m.\u001b[39mwrite(comment\u001b[39m.\u001b[39mbody \u001b[39m+\u001b[39m \u001b[39m'\u001b[39m\u001b[39m \u001b[39m\u001b[39m'\u001b[39m \u001b[39m+\u001b[39m \u001b[39m'\u001b[39m\u001b[39m:\u001b[39m\u001b[39m'\u001b[39m \u001b[39m+\u001b[39m \u001b[39m'\u001b[39m\u001b[39m \u001b[39m\u001b[39m'\u001b[39m \u001b[39m+\u001b[39m \u001b[39mstr\u001b[39m(sentiment_value))\n",
      "\u001b[1;32m/Users/chadcomiter/Documents/CS6120 NLP/NLP_Final_Project_Group_20/NLP_Final_Project_Group_20/faster_sentiment_analysis.ipynb Cell 8'\u001b[0m in \u001b[0;36mdefine_sentiment\u001b[0;34m(comment)\u001b[0m\n\u001b[1;32m      <a href='vscode-notebook-cell:/Users/chadcomiter/Documents/CS6120%20NLP/NLP_Final_Project_Group_20/NLP_Final_Project_Group_20/faster_sentiment_analysis.ipynb#ch0000007?line=0'>1</a>\u001b[0m \u001b[39mdef\u001b[39;00m \u001b[39mdefine_sentiment\u001b[39m(comment):\n\u001b[1;32m      <a href='vscode-notebook-cell:/Users/chadcomiter/Documents/CS6120%20NLP/NLP_Final_Project_Group_20/NLP_Final_Project_Group_20/faster_sentiment_analysis.ipynb#ch0000007?line=1'>2</a>\u001b[0m     comment_features \u001b[39m=\u001b[39m find_features(comment)\n\u001b[0;32m----> <a href='vscode-notebook-cell:/Users/chadcomiter/Documents/CS6120%20NLP/NLP_Final_Project_Group_20/NLP_Final_Project_Group_20/faster_sentiment_analysis.ipynb#ch0000007?line=2'>3</a>\u001b[0m     \u001b[39mreturn\u001b[39;00m voting_classifier\u001b[39m.\u001b[39mclassify(comment_features), voting_classifier\u001b[39m.\u001b[39;49mevaluate_confidence(comment_features)\n",
      "\u001b[1;32m/Users/chadcomiter/Documents/CS6120 NLP/NLP_Final_Project_Group_20/NLP_Final_Project_Group_20/faster_sentiment_analysis.ipynb Cell 6'\u001b[0m in \u001b[0;36mVotingClassifier.evaluate_confidence\u001b[0;34m(self, features)\u001b[0m\n\u001b[1;32m     <a href='vscode-notebook-cell:/Users/chadcomiter/Documents/CS6120%20NLP/NLP_Final_Project_Group_20/NLP_Final_Project_Group_20/faster_sentiment_analysis.ipynb#ch0000005?line=13'>14</a>\u001b[0m votes \u001b[39m=\u001b[39m []\n\u001b[1;32m     <a href='vscode-notebook-cell:/Users/chadcomiter/Documents/CS6120%20NLP/NLP_Final_Project_Group_20/NLP_Final_Project_Group_20/faster_sentiment_analysis.ipynb#ch0000005?line=14'>15</a>\u001b[0m \u001b[39mfor\u001b[39;00m classifier \u001b[39min\u001b[39;00m \u001b[39mself\u001b[39m\u001b[39m.\u001b[39m_classifiers:\n\u001b[0;32m---> <a href='vscode-notebook-cell:/Users/chadcomiter/Documents/CS6120%20NLP/NLP_Final_Project_Group_20/NLP_Final_Project_Group_20/faster_sentiment_analysis.ipynb#ch0000005?line=15'>16</a>\u001b[0m     vote \u001b[39m=\u001b[39m classifier\u001b[39m.\u001b[39;49mclassify(features)\n\u001b[1;32m     <a href='vscode-notebook-cell:/Users/chadcomiter/Documents/CS6120%20NLP/NLP_Final_Project_Group_20/NLP_Final_Project_Group_20/faster_sentiment_analysis.ipynb#ch0000005?line=16'>17</a>\u001b[0m     votes\u001b[39m.\u001b[39mappend(vote)\n\u001b[1;32m     <a href='vscode-notebook-cell:/Users/chadcomiter/Documents/CS6120%20NLP/NLP_Final_Project_Group_20/NLP_Final_Project_Group_20/faster_sentiment_analysis.ipynb#ch0000005?line=18'>19</a>\u001b[0m choice_votes \u001b[39m=\u001b[39m votes\u001b[39m.\u001b[39mcount(mode(votes))\n",
      "File \u001b[0;32m/usr/local/lib/python3.9/site-packages/nltk/classify/api.py:56\u001b[0m, in \u001b[0;36mClassifierI.classify\u001b[0;34m(self, featureset)\u001b[0m\n\u001b[1;32m     <a href='file:///usr/local/lib/python3.9/site-packages/nltk/classify/api.py?line=50'>51</a>\u001b[0m \u001b[39m\"\"\"\u001b[39;00m\n\u001b[1;32m     <a href='file:///usr/local/lib/python3.9/site-packages/nltk/classify/api.py?line=51'>52</a>\u001b[0m \u001b[39m:return: the most appropriate label for the given featureset.\u001b[39;00m\n\u001b[1;32m     <a href='file:///usr/local/lib/python3.9/site-packages/nltk/classify/api.py?line=52'>53</a>\u001b[0m \u001b[39m:rtype: label\u001b[39;00m\n\u001b[1;32m     <a href='file:///usr/local/lib/python3.9/site-packages/nltk/classify/api.py?line=53'>54</a>\u001b[0m \u001b[39m\"\"\"\u001b[39;00m\n\u001b[1;32m     <a href='file:///usr/local/lib/python3.9/site-packages/nltk/classify/api.py?line=54'>55</a>\u001b[0m \u001b[39mif\u001b[39;00m overridden(\u001b[39mself\u001b[39m\u001b[39m.\u001b[39mclassify_many):\n\u001b[0;32m---> <a href='file:///usr/local/lib/python3.9/site-packages/nltk/classify/api.py?line=55'>56</a>\u001b[0m     \u001b[39mreturn\u001b[39;00m \u001b[39mself\u001b[39;49m\u001b[39m.\u001b[39;49mclassify_many([featureset])[\u001b[39m0\u001b[39m]\n\u001b[1;32m     <a href='file:///usr/local/lib/python3.9/site-packages/nltk/classify/api.py?line=56'>57</a>\u001b[0m \u001b[39melse\u001b[39;00m:\n\u001b[1;32m     <a href='file:///usr/local/lib/python3.9/site-packages/nltk/classify/api.py?line=57'>58</a>\u001b[0m     \u001b[39mraise\u001b[39;00m \u001b[39mNotImplementedError\u001b[39;00m()\n",
      "File \u001b[0;32m/usr/local/lib/python3.9/site-packages/nltk/classify/scikitlearn.py:82\u001b[0m, in \u001b[0;36mSklearnClassifier.classify_many\u001b[0;34m(self, featuresets)\u001b[0m\n\u001b[1;32m     <a href='file:///usr/local/lib/python3.9/site-packages/nltk/classify/scikitlearn.py?line=79'>80</a>\u001b[0m X \u001b[39m=\u001b[39m \u001b[39mself\u001b[39m\u001b[39m.\u001b[39m_vectorizer\u001b[39m.\u001b[39mtransform(featuresets)\n\u001b[1;32m     <a href='file:///usr/local/lib/python3.9/site-packages/nltk/classify/scikitlearn.py?line=80'>81</a>\u001b[0m classes \u001b[39m=\u001b[39m \u001b[39mself\u001b[39m\u001b[39m.\u001b[39m_encoder\u001b[39m.\u001b[39mclasses_\n\u001b[0;32m---> <a href='file:///usr/local/lib/python3.9/site-packages/nltk/classify/scikitlearn.py?line=81'>82</a>\u001b[0m \u001b[39mreturn\u001b[39;00m [classes[i] \u001b[39mfor\u001b[39;00m i \u001b[39min\u001b[39;00m \u001b[39mself\u001b[39;49m\u001b[39m.\u001b[39;49m_clf\u001b[39m.\u001b[39;49mpredict(X)]\n",
      "File \u001b[0;32m/usr/local/lib/python3.9/site-packages/sklearn/svm/_base.py:791\u001b[0m, in \u001b[0;36mBaseSVC.predict\u001b[0;34m(self, X)\u001b[0m\n\u001b[1;32m    <a href='file:///usr/local/lib/python3.9/site-packages/sklearn/svm/_base.py?line=788'>789</a>\u001b[0m     y \u001b[39m=\u001b[39m np\u001b[39m.\u001b[39margmax(\u001b[39mself\u001b[39m\u001b[39m.\u001b[39mdecision_function(X), axis\u001b[39m=\u001b[39m\u001b[39m1\u001b[39m)\n\u001b[1;32m    <a href='file:///usr/local/lib/python3.9/site-packages/sklearn/svm/_base.py?line=789'>790</a>\u001b[0m \u001b[39melse\u001b[39;00m:\n\u001b[0;32m--> <a href='file:///usr/local/lib/python3.9/site-packages/sklearn/svm/_base.py?line=790'>791</a>\u001b[0m     y \u001b[39m=\u001b[39m \u001b[39msuper\u001b[39;49m()\u001b[39m.\u001b[39;49mpredict(X)\n\u001b[1;32m    <a href='file:///usr/local/lib/python3.9/site-packages/sklearn/svm/_base.py?line=791'>792</a>\u001b[0m \u001b[39mreturn\u001b[39;00m \u001b[39mself\u001b[39m\u001b[39m.\u001b[39mclasses_\u001b[39m.\u001b[39mtake(np\u001b[39m.\u001b[39masarray(y, dtype\u001b[39m=\u001b[39mnp\u001b[39m.\u001b[39mintp))\n",
      "File \u001b[0;32m/usr/local/lib/python3.9/site-packages/sklearn/svm/_base.py:416\u001b[0m, in \u001b[0;36mBaseLibSVM.predict\u001b[0;34m(self, X)\u001b[0m\n\u001b[1;32m    <a href='file:///usr/local/lib/python3.9/site-packages/sklearn/svm/_base.py?line=413'>414</a>\u001b[0m X \u001b[39m=\u001b[39m \u001b[39mself\u001b[39m\u001b[39m.\u001b[39m_validate_for_predict(X)\n\u001b[1;32m    <a href='file:///usr/local/lib/python3.9/site-packages/sklearn/svm/_base.py?line=414'>415</a>\u001b[0m predict \u001b[39m=\u001b[39m \u001b[39mself\u001b[39m\u001b[39m.\u001b[39m_sparse_predict \u001b[39mif\u001b[39;00m \u001b[39mself\u001b[39m\u001b[39m.\u001b[39m_sparse \u001b[39melse\u001b[39;00m \u001b[39mself\u001b[39m\u001b[39m.\u001b[39m_dense_predict\n\u001b[0;32m--> <a href='file:///usr/local/lib/python3.9/site-packages/sklearn/svm/_base.py?line=415'>416</a>\u001b[0m \u001b[39mreturn\u001b[39;00m predict(X)\n",
      "File \u001b[0;32m/usr/local/lib/python3.9/site-packages/sklearn/svm/_base.py:462\u001b[0m, in \u001b[0;36mBaseLibSVM._sparse_predict\u001b[0;34m(self, X)\u001b[0m\n\u001b[1;32m    <a href='file:///usr/local/lib/python3.9/site-packages/sklearn/svm/_base.py?line=457'>458</a>\u001b[0m kernel_type \u001b[39m=\u001b[39m \u001b[39mself\u001b[39m\u001b[39m.\u001b[39m_sparse_kernels\u001b[39m.\u001b[39mindex(kernel)\n\u001b[1;32m    <a href='file:///usr/local/lib/python3.9/site-packages/sklearn/svm/_base.py?line=459'>460</a>\u001b[0m C \u001b[39m=\u001b[39m \u001b[39m0.0\u001b[39m  \u001b[39m# C is not useful here\u001b[39;00m\n\u001b[0;32m--> <a href='file:///usr/local/lib/python3.9/site-packages/sklearn/svm/_base.py?line=461'>462</a>\u001b[0m \u001b[39mreturn\u001b[39;00m libsvm_sparse\u001b[39m.\u001b[39;49mlibsvm_sparse_predict(\n\u001b[1;32m    <a href='file:///usr/local/lib/python3.9/site-packages/sklearn/svm/_base.py?line=462'>463</a>\u001b[0m     X\u001b[39m.\u001b[39;49mdata,\n\u001b[1;32m    <a href='file:///usr/local/lib/python3.9/site-packages/sklearn/svm/_base.py?line=463'>464</a>\u001b[0m     X\u001b[39m.\u001b[39;49mindices,\n\u001b[1;32m    <a href='file:///usr/local/lib/python3.9/site-packages/sklearn/svm/_base.py?line=464'>465</a>\u001b[0m     X\u001b[39m.\u001b[39;49mindptr,\n\u001b[1;32m    <a href='file:///usr/local/lib/python3.9/site-packages/sklearn/svm/_base.py?line=465'>466</a>\u001b[0m     \u001b[39mself\u001b[39;49m\u001b[39m.\u001b[39;49msupport_vectors_\u001b[39m.\u001b[39;49mdata,\n\u001b[1;32m    <a href='file:///usr/local/lib/python3.9/site-packages/sklearn/svm/_base.py?line=466'>467</a>\u001b[0m     \u001b[39mself\u001b[39;49m\u001b[39m.\u001b[39;49msupport_vectors_\u001b[39m.\u001b[39;49mindices,\n\u001b[1;32m    <a href='file:///usr/local/lib/python3.9/site-packages/sklearn/svm/_base.py?line=467'>468</a>\u001b[0m     \u001b[39mself\u001b[39;49m\u001b[39m.\u001b[39;49msupport_vectors_\u001b[39m.\u001b[39;49mindptr,\n\u001b[1;32m    <a href='file:///usr/local/lib/python3.9/site-packages/sklearn/svm/_base.py?line=468'>469</a>\u001b[0m     \u001b[39mself\u001b[39;49m\u001b[39m.\u001b[39;49m_dual_coef_\u001b[39m.\u001b[39;49mdata,\n\u001b[1;32m    <a href='file:///usr/local/lib/python3.9/site-packages/sklearn/svm/_base.py?line=469'>470</a>\u001b[0m     \u001b[39mself\u001b[39;49m\u001b[39m.\u001b[39;49m_intercept_,\n\u001b[1;32m    <a href='file:///usr/local/lib/python3.9/site-packages/sklearn/svm/_base.py?line=470'>471</a>\u001b[0m     LIBSVM_IMPL\u001b[39m.\u001b[39;49mindex(\u001b[39mself\u001b[39;49m\u001b[39m.\u001b[39;49m_impl),\n\u001b[1;32m    <a href='file:///usr/local/lib/python3.9/site-packages/sklearn/svm/_base.py?line=471'>472</a>\u001b[0m     kernel_type,\n\u001b[1;32m    <a href='file:///usr/local/lib/python3.9/site-packages/sklearn/svm/_base.py?line=472'>473</a>\u001b[0m     \u001b[39mself\u001b[39;49m\u001b[39m.\u001b[39;49mdegree,\n\u001b[1;32m    <a href='file:///usr/local/lib/python3.9/site-packages/sklearn/svm/_base.py?line=473'>474</a>\u001b[0m     \u001b[39mself\u001b[39;49m\u001b[39m.\u001b[39;49m_gamma,\n\u001b[1;32m    <a href='file:///usr/local/lib/python3.9/site-packages/sklearn/svm/_base.py?line=474'>475</a>\u001b[0m     \u001b[39mself\u001b[39;49m\u001b[39m.\u001b[39;49mcoef0,\n\u001b[1;32m    <a href='file:///usr/local/lib/python3.9/site-packages/sklearn/svm/_base.py?line=475'>476</a>\u001b[0m     \u001b[39mself\u001b[39;49m\u001b[39m.\u001b[39;49mtol,\n\u001b[1;32m    <a href='file:///usr/local/lib/python3.9/site-packages/sklearn/svm/_base.py?line=476'>477</a>\u001b[0m     C,\n\u001b[1;32m    <a href='file:///usr/local/lib/python3.9/site-packages/sklearn/svm/_base.py?line=477'>478</a>\u001b[0m     \u001b[39mself\u001b[39;49m\u001b[39m.\u001b[39;49mclass_weight_,\n\u001b[1;32m    <a href='file:///usr/local/lib/python3.9/site-packages/sklearn/svm/_base.py?line=478'>479</a>\u001b[0m     \u001b[39mself\u001b[39;49m\u001b[39m.\u001b[39;49mnu,\n\u001b[1;32m    <a href='file:///usr/local/lib/python3.9/site-packages/sklearn/svm/_base.py?line=479'>480</a>\u001b[0m     \u001b[39mself\u001b[39;49m\u001b[39m.\u001b[39;49mepsilon,\n\u001b[1;32m    <a href='file:///usr/local/lib/python3.9/site-packages/sklearn/svm/_base.py?line=480'>481</a>\u001b[0m     \u001b[39mself\u001b[39;49m\u001b[39m.\u001b[39;49mshrinking,\n\u001b[1;32m    <a href='file:///usr/local/lib/python3.9/site-packages/sklearn/svm/_base.py?line=481'>482</a>\u001b[0m     \u001b[39mself\u001b[39;49m\u001b[39m.\u001b[39;49mprobability,\n\u001b[1;32m    <a href='file:///usr/local/lib/python3.9/site-packages/sklearn/svm/_base.py?line=482'>483</a>\u001b[0m     \u001b[39mself\u001b[39;49m\u001b[39m.\u001b[39;49m_n_support,\n\u001b[1;32m    <a href='file:///usr/local/lib/python3.9/site-packages/sklearn/svm/_base.py?line=483'>484</a>\u001b[0m     \u001b[39mself\u001b[39;49m\u001b[39m.\u001b[39;49m_probA,\n\u001b[1;32m    <a href='file:///usr/local/lib/python3.9/site-packages/sklearn/svm/_base.py?line=484'>485</a>\u001b[0m     \u001b[39mself\u001b[39;49m\u001b[39m.\u001b[39;49m_probB,\n\u001b[1;32m    <a href='file:///usr/local/lib/python3.9/site-packages/sklearn/svm/_base.py?line=485'>486</a>\u001b[0m )\n",
      "\u001b[0;31mKeyboardInterrupt\u001b[0m: "
     ]
    }
   ],
   "source": [
    "#Streaming the reddit api\n",
    "\n",
    "#subreddit.stream.comments(skip_existing=True) will start when the stream starts\n",
    "for comment in wallstreetbets.stream.comments():\n",
    "    wsb_output = open(\"wsb_output.txt\", \"a\")\n",
    "    sentiment_value, confidence_value = define_sentiment(comment.body)\n",
    "#     if sentiment_value == -1:\n",
    "#         print(comment.body)\n",
    "    wsb_output.write(comment.body + ' ' + ':' + ' ' + str(sentiment_value))\n",
    "    wsb_output.write('\\n')\n",
    "    wsb_output.close\n",
    "#     print(comment.body)\n",
    "#     print(define_sentiment(comment.body))\n"
   ]
  },
  {
   "cell_type": "code",
   "execution_count": null,
   "id": "ba1938cc",
   "metadata": {},
   "outputs": [],
   "source": []
  }
 ],
 "metadata": {
  "kernelspec": {
   "display_name": "Python 3 (ipykernel)",
   "language": "python",
   "name": "python3"
  },
  "language_info": {
   "codemirror_mode": {
    "name": "ipython",
    "version": 3
   },
   "file_extension": ".py",
   "mimetype": "text/x-python",
   "name": "python",
   "nbconvert_exporter": "python",
   "pygments_lexer": "ipython3",
   "version": "3.9.10"
  }
 },
 "nbformat": 4,
 "nbformat_minor": 5
}
